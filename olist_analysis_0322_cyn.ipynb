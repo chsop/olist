{
 "cells": [
  {
   "cell_type": "markdown",
   "metadata": {
    "collapsed": true
   },
   "source": [
    "- 데이터셋 분석대상 기간 : <br>\n",
    "2017-01-01 ~ 2018-08-31 (1년 8개월) <br>\n",
    "\n",
    "\n",
    "- 출처 : <br>\n",
    "https://www.kaggle.com/olistbr/brazilian-ecommerce <br>\n",
    "https://www.kaggle.com/olistbr/marketing-funnel-olist\n",
    "\n",
    "\n",
    "- 분석 주제 :<br>\n",
    " -> Olist 셀러, 판매월, 제품카테고리 중 평균 review_score가 낮은 건들을 확인하고<br>\n",
    " -> 해당 계정들에서 공통적으로 관찰되는 문제점을 파악하여 review_score 개선 전략을 세우자\n",
    " \n",
    " \n",
    "- 분석 단계 :<br>\n",
    " -> 1단계 : 셀러별 월별 매출액, 판매횟수 및 기타 특징을 입력변수로 사용한 군집화 (등급)<br>\n",
    " -> 2단계 : 해당 등급 및 기타 특징을 입력변수로 사용한 review_score 예측<br>\n",
    " -> 3단계 : review_score에 영향을 미친 요인을 구체적으로 확인하기 위한 워드클라우드 확인"
   ]
  },
  {
   "cell_type": "code",
   "execution_count": 1,
   "metadata": {
    "scrolled": true
   },
   "outputs": [
    {
     "data": {
      "application/javascript": [
       "IPython.notebook.set_autosave_interval(0)"
      ]
     },
     "metadata": {},
     "output_type": "display_data"
    },
    {
     "name": "stdout",
     "output_type": "stream",
     "text": [
      "Autosave disabled\n"
     ]
    }
   ],
   "source": [
    "%autosave 0"
   ]
  },
  {
   "cell_type": "code",
   "execution_count": 2,
   "metadata": {},
   "outputs": [],
   "source": [
    "import pandas as pd\n",
    "import numpy as np\n",
    "import seaborn as sns\n",
    "import matplotlib.pyplot as plt\n",
    "import datetime as dt\n",
    "import warnings\n",
    "warnings.filterwarnings('ignore')\n",
    "\n",
    "pd.set_option('display.max_columns', None)\n",
    "pd.set_option(\"display.max_colwidth\", -1)"
   ]
  },
  {
   "cell_type": "markdown",
   "metadata": {},
   "source": [
    "# 데이터셋 불러오기"
   ]
  },
  {
   "cell_type": "code",
   "execution_count": 6,
   "metadata": {},
   "outputs": [
    {
     "data": {
      "text/plain": [
       "'C:\\\\Users\\\\Chanseo Park\\\\Desktop\\\\2차 프로젝트'"
      ]
     },
     "execution_count": 6,
     "metadata": {},
     "output_type": "execute_result"
    }
   ],
   "source": [
    "%pwd"
   ]
  },
  {
   "cell_type": "code",
   "execution_count": 12,
   "metadata": {},
   "outputs": [
    {
     "data": {
      "text/html": [
       "<div>\n",
       "<style scoped>\n",
       "    .dataframe tbody tr th:only-of-type {\n",
       "        vertical-align: middle;\n",
       "    }\n",
       "\n",
       "    .dataframe tbody tr th {\n",
       "        vertical-align: top;\n",
       "    }\n",
       "\n",
       "    .dataframe thead th {\n",
       "        text-align: right;\n",
       "    }\n",
       "</style>\n",
       "<table border=\"1\" class=\"dataframe\">\n",
       "  <thead>\n",
       "    <tr style=\"text-align: right;\">\n",
       "      <th></th>\n",
       "      <th>review_score</th>\n",
       "      <th>low_review_score_rate</th>\n",
       "      <th>year_month</th>\n",
       "      <th>seller_id</th>\n",
       "      <th>rating</th>\n",
       "      <th>product_category_upper</th>\n",
       "      <th>seller_state</th>\n",
       "      <th>seles_by_OrderNumber</th>\n",
       "      <th>sales</th>\n",
       "      <th>order_nb</th>\n",
       "      <th>delivery_delay_origin</th>\n",
       "      <th>delivery_periods_origin</th>\n",
       "      <th>delivery_preparation_origin</th>\n",
       "      <th>error_rate_based_on_CI</th>\n",
       "      <th>error_rate_based_on_estimated</th>\n",
       "      <th>rate_canceled</th>\n",
       "      <th>canceled_rate_rolling</th>\n",
       "      <th>error_rate_based_on_CI_rolling</th>\n",
       "      <th>error_rate_based_on_estimated_rolling</th>\n",
       "    </tr>\n",
       "  </thead>\n",
       "  <tbody>\n",
       "    <tr>\n",
       "      <th>0</th>\n",
       "      <td>4.200000</td>\n",
       "      <td>20.0</td>\n",
       "      <td>2017-01-01</td>\n",
       "      <td>004c9cd9d87a3c30c522c48c4fc07416</td>\n",
       "      <td>0</td>\n",
       "      <td>home_living</td>\n",
       "      <td>SP</td>\n",
       "      <td>140.574000</td>\n",
       "      <td>702.87</td>\n",
       "      <td>5.0</td>\n",
       "      <td>-19.000000</td>\n",
       "      <td>16.4</td>\n",
       "      <td>0.400000</td>\n",
       "      <td>20.0</td>\n",
       "      <td>20.0</td>\n",
       "      <td>0.0</td>\n",
       "      <td>NaN</td>\n",
       "      <td>NaN</td>\n",
       "      <td>NaN</td>\n",
       "    </tr>\n",
       "    <tr>\n",
       "      <th>1</th>\n",
       "      <td>5.000000</td>\n",
       "      <td>0.0</td>\n",
       "      <td>2017-01-01</td>\n",
       "      <td>014c0679dd340a0e338872e7ec85666a</td>\n",
       "      <td>0</td>\n",
       "      <td>home_living</td>\n",
       "      <td>MG</td>\n",
       "      <td>128.200000</td>\n",
       "      <td>128.20</td>\n",
       "      <td>1.0</td>\n",
       "      <td>-64.000000</td>\n",
       "      <td>11.0</td>\n",
       "      <td>1.000000</td>\n",
       "      <td>0.0</td>\n",
       "      <td>0.0</td>\n",
       "      <td>0.0</td>\n",
       "      <td>NaN</td>\n",
       "      <td>NaN</td>\n",
       "      <td>NaN</td>\n",
       "    </tr>\n",
       "    <tr>\n",
       "      <th>2</th>\n",
       "      <td>5.000000</td>\n",
       "      <td>0.0</td>\n",
       "      <td>2017-01-01</td>\n",
       "      <td>01cf7e3d21494c41fb86034f2e714fa1</td>\n",
       "      <td>0</td>\n",
       "      <td>home_appliances</td>\n",
       "      <td>PR</td>\n",
       "      <td>227.425000</td>\n",
       "      <td>909.70</td>\n",
       "      <td>4.0</td>\n",
       "      <td>-35.666667</td>\n",
       "      <td>13.0</td>\n",
       "      <td>2.000000</td>\n",
       "      <td>25.0</td>\n",
       "      <td>25.0</td>\n",
       "      <td>0.0</td>\n",
       "      <td>NaN</td>\n",
       "      <td>NaN</td>\n",
       "      <td>NaN</td>\n",
       "    </tr>\n",
       "    <tr>\n",
       "      <th>3</th>\n",
       "      <td>4.000000</td>\n",
       "      <td>50.0</td>\n",
       "      <td>2017-01-01</td>\n",
       "      <td>01cf7e3d21494c41fb86034f2e714fa1</td>\n",
       "      <td>0</td>\n",
       "      <td>stationery</td>\n",
       "      <td>PR</td>\n",
       "      <td>91.840000</td>\n",
       "      <td>183.68</td>\n",
       "      <td>2.0</td>\n",
       "      <td>-19.500000</td>\n",
       "      <td>6.5</td>\n",
       "      <td>1.000000</td>\n",
       "      <td>0.0</td>\n",
       "      <td>0.0</td>\n",
       "      <td>0.0</td>\n",
       "      <td>NaN</td>\n",
       "      <td>NaN</td>\n",
       "      <td>NaN</td>\n",
       "    </tr>\n",
       "    <tr>\n",
       "      <th>4</th>\n",
       "      <td>4.666667</td>\n",
       "      <td>0.0</td>\n",
       "      <td>2017-01-01</td>\n",
       "      <td>054694fa03fe82cec4b7551487331d74</td>\n",
       "      <td>0</td>\n",
       "      <td>home_appliances</td>\n",
       "      <td>SP</td>\n",
       "      <td>449.546667</td>\n",
       "      <td>1348.64</td>\n",
       "      <td>3.0</td>\n",
       "      <td>-27.666667</td>\n",
       "      <td>14.0</td>\n",
       "      <td>5.333333</td>\n",
       "      <td>0.0</td>\n",
       "      <td>0.0</td>\n",
       "      <td>0.0</td>\n",
       "      <td>NaN</td>\n",
       "      <td>NaN</td>\n",
       "      <td>NaN</td>\n",
       "    </tr>\n",
       "    <tr>\n",
       "      <th>...</th>\n",
       "      <td>...</td>\n",
       "      <td>...</td>\n",
       "      <td>...</td>\n",
       "      <td>...</td>\n",
       "      <td>...</td>\n",
       "      <td>...</td>\n",
       "      <td>...</td>\n",
       "      <td>...</td>\n",
       "      <td>...</td>\n",
       "      <td>...</td>\n",
       "      <td>...</td>\n",
       "      <td>...</td>\n",
       "      <td>...</td>\n",
       "      <td>...</td>\n",
       "      <td>...</td>\n",
       "      <td>...</td>\n",
       "      <td>...</td>\n",
       "      <td>...</td>\n",
       "      <td>...</td>\n",
       "    </tr>\n",
       "    <tr>\n",
       "      <th>21608</th>\n",
       "      <td>1.000000</td>\n",
       "      <td>100.0</td>\n",
       "      <td>2018-02-01</td>\n",
       "      <td>5011f0d93373a4c5753adf58ca77af8d</td>\n",
       "      <td>0</td>\n",
       "      <td>food_drink</td>\n",
       "      <td>SP</td>\n",
       "      <td>NaN</td>\n",
       "      <td>NaN</td>\n",
       "      <td>NaN</td>\n",
       "      <td>NaN</td>\n",
       "      <td>NaN</td>\n",
       "      <td>NaN</td>\n",
       "      <td>NaN</td>\n",
       "      <td>NaN</td>\n",
       "      <td>100.0</td>\n",
       "      <td>0.0</td>\n",
       "      <td>0.000000</td>\n",
       "      <td>0.000000</td>\n",
       "    </tr>\n",
       "    <tr>\n",
       "      <th>21609</th>\n",
       "      <td>1.000000</td>\n",
       "      <td>100.0</td>\n",
       "      <td>2018-02-01</td>\n",
       "      <td>5b581417df4480f632484ba681e53944</td>\n",
       "      <td>4</td>\n",
       "      <td>stationery</td>\n",
       "      <td>SC</td>\n",
       "      <td>NaN</td>\n",
       "      <td>NaN</td>\n",
       "      <td>NaN</td>\n",
       "      <td>NaN</td>\n",
       "      <td>NaN</td>\n",
       "      <td>NaN</td>\n",
       "      <td>NaN</td>\n",
       "      <td>NaN</td>\n",
       "      <td>100.0</td>\n",
       "      <td>0.0</td>\n",
       "      <td>0.222222</td>\n",
       "      <td>0.222222</td>\n",
       "    </tr>\n",
       "    <tr>\n",
       "      <th>21610</th>\n",
       "      <td>1.000000</td>\n",
       "      <td>100.0</td>\n",
       "      <td>2018-02-01</td>\n",
       "      <td>c1ed9e3daf6154542826a6996af0fb8c</td>\n",
       "      <td>2</td>\n",
       "      <td>electronics</td>\n",
       "      <td>SC</td>\n",
       "      <td>NaN</td>\n",
       "      <td>NaN</td>\n",
       "      <td>NaN</td>\n",
       "      <td>NaN</td>\n",
       "      <td>NaN</td>\n",
       "      <td>NaN</td>\n",
       "      <td>NaN</td>\n",
       "      <td>NaN</td>\n",
       "      <td>100.0</td>\n",
       "      <td>0.0</td>\n",
       "      <td>0.000000</td>\n",
       "      <td>0.000000</td>\n",
       "    </tr>\n",
       "    <tr>\n",
       "      <th>21611</th>\n",
       "      <td>3.000000</td>\n",
       "      <td>100.0</td>\n",
       "      <td>2018-02-01</td>\n",
       "      <td>cca3071e3e9bb7d12640c9fbe2301306</td>\n",
       "      <td>8</td>\n",
       "      <td>home_appliances</td>\n",
       "      <td>SP</td>\n",
       "      <td>NaN</td>\n",
       "      <td>NaN</td>\n",
       "      <td>NaN</td>\n",
       "      <td>NaN</td>\n",
       "      <td>NaN</td>\n",
       "      <td>NaN</td>\n",
       "      <td>NaN</td>\n",
       "      <td>NaN</td>\n",
       "      <td>100.0</td>\n",
       "      <td>0.0</td>\n",
       "      <td>0.086957</td>\n",
       "      <td>0.113043</td>\n",
       "    </tr>\n",
       "    <tr>\n",
       "      <th>21612</th>\n",
       "      <td>4.000000</td>\n",
       "      <td>0.0</td>\n",
       "      <td>2018-03-01</td>\n",
       "      <td>6edacfd9f9074789dad6d62ba7950b9c</td>\n",
       "      <td>6</td>\n",
       "      <td>telephone</td>\n",
       "      <td>SP</td>\n",
       "      <td>NaN</td>\n",
       "      <td>NaN</td>\n",
       "      <td>NaN</td>\n",
       "      <td>NaN</td>\n",
       "      <td>NaN</td>\n",
       "      <td>NaN</td>\n",
       "      <td>NaN</td>\n",
       "      <td>NaN</td>\n",
       "      <td>100.0</td>\n",
       "      <td>0.0</td>\n",
       "      <td>0.090909</td>\n",
       "      <td>0.090909</td>\n",
       "    </tr>\n",
       "  </tbody>\n",
       "</table>\n",
       "<p>21613 rows × 19 columns</p>\n",
       "</div>"
      ],
      "text/plain": [
       "       review_score  low_review_score_rate year_month  \\\n",
       "0      4.200000      20.0                  2017-01-01   \n",
       "1      5.000000      0.0                   2017-01-01   \n",
       "2      5.000000      0.0                   2017-01-01   \n",
       "3      4.000000      50.0                  2017-01-01   \n",
       "4      4.666667      0.0                   2017-01-01   \n",
       "...         ...      ...                          ...   \n",
       "21608  1.000000      100.0                 2018-02-01   \n",
       "21609  1.000000      100.0                 2018-02-01   \n",
       "21610  1.000000      100.0                 2018-02-01   \n",
       "21611  3.000000      100.0                 2018-02-01   \n",
       "21612  4.000000      0.0                   2018-03-01   \n",
       "\n",
       "                              seller_id  rating product_category_upper  \\\n",
       "0      004c9cd9d87a3c30c522c48c4fc07416  0       home_living             \n",
       "1      014c0679dd340a0e338872e7ec85666a  0       home_living             \n",
       "2      01cf7e3d21494c41fb86034f2e714fa1  0       home_appliances         \n",
       "3      01cf7e3d21494c41fb86034f2e714fa1  0       stationery              \n",
       "4      054694fa03fe82cec4b7551487331d74  0       home_appliances         \n",
       "...                                 ... ..                   ...         \n",
       "21608  5011f0d93373a4c5753adf58ca77af8d  0       food_drink              \n",
       "21609  5b581417df4480f632484ba681e53944  4       stationery              \n",
       "21610  c1ed9e3daf6154542826a6996af0fb8c  2       electronics             \n",
       "21611  cca3071e3e9bb7d12640c9fbe2301306  8       home_appliances         \n",
       "21612  6edacfd9f9074789dad6d62ba7950b9c  6       telephone               \n",
       "\n",
       "      seller_state  seles_by_OrderNumber    sales  order_nb  \\\n",
       "0      SP           140.574000            702.87   5.0        \n",
       "1      MG           128.200000            128.20   1.0        \n",
       "2      PR           227.425000            909.70   4.0        \n",
       "3      PR           91.840000             183.68   2.0        \n",
       "4      SP           449.546667            1348.64  3.0        \n",
       "...    ..                  ...                ...  ...        \n",
       "21608  SP          NaN                   NaN      NaN         \n",
       "21609  SC          NaN                   NaN      NaN         \n",
       "21610  SC          NaN                   NaN      NaN         \n",
       "21611  SP          NaN                   NaN      NaN         \n",
       "21612  SP          NaN                   NaN      NaN         \n",
       "\n",
       "       delivery_delay_origin  delivery_periods_origin  \\\n",
       "0     -19.000000              16.4                      \n",
       "1     -64.000000              11.0                      \n",
       "2     -35.666667              13.0                      \n",
       "3     -19.500000              6.5                       \n",
       "4     -27.666667              14.0                      \n",
       "...          ...               ...                      \n",
       "21608 NaN                    NaN                        \n",
       "21609 NaN                    NaN                        \n",
       "21610 NaN                    NaN                        \n",
       "21611 NaN                    NaN                        \n",
       "21612 NaN                    NaN                        \n",
       "\n",
       "       delivery_preparation_origin  error_rate_based_on_CI  \\\n",
       "0      0.400000                     20.0                     \n",
       "1      1.000000                     0.0                      \n",
       "2      2.000000                     25.0                     \n",
       "3      1.000000                     0.0                      \n",
       "4      5.333333                     0.0                      \n",
       "...         ...                     ...                      \n",
       "21608 NaN                          NaN                       \n",
       "21609 NaN                          NaN                       \n",
       "21610 NaN                          NaN                       \n",
       "21611 NaN                          NaN                       \n",
       "21612 NaN                          NaN                       \n",
       "\n",
       "       error_rate_based_on_estimated  rate_canceled  canceled_rate_rolling  \\\n",
       "0      20.0                           0.0           NaN                      \n",
       "1      0.0                            0.0           NaN                      \n",
       "2      25.0                           0.0           NaN                      \n",
       "3      0.0                            0.0           NaN                      \n",
       "4      0.0                            0.0           NaN                      \n",
       "...    ...                            ...            ..                      \n",
       "21608 NaN                             100.0          0.0                     \n",
       "21609 NaN                             100.0          0.0                     \n",
       "21610 NaN                             100.0          0.0                     \n",
       "21611 NaN                             100.0          0.0                     \n",
       "21612 NaN                             100.0          0.0                     \n",
       "\n",
       "       error_rate_based_on_CI_rolling  error_rate_based_on_estimated_rolling  \n",
       "0     NaN                             NaN                                     \n",
       "1     NaN                             NaN                                     \n",
       "2     NaN                             NaN                                     \n",
       "3     NaN                             NaN                                     \n",
       "4     NaN                             NaN                                     \n",
       "...    ..                              ..                                     \n",
       "21608  0.000000                        0.000000                               \n",
       "21609  0.222222                        0.222222                               \n",
       "21610  0.000000                        0.000000                               \n",
       "21611  0.086957                        0.113043                               \n",
       "21612  0.090909                        0.090909                               \n",
       "\n",
       "[21613 rows x 19 columns]"
      ]
     },
     "execution_count": 12,
     "metadata": {},
     "output_type": "execute_result"
    }
   ],
   "source": [
    "data = pd.read_excel('cyn/df_model_origin.xlsx')\n",
    "data"
   ]
  },
  {
   "cell_type": "code",
   "execution_count": 13,
   "metadata": {},
   "outputs": [
    {
     "data": {
      "text/plain": [
       "review_score                             0   \n",
       "low_review_score_rate                    0   \n",
       "year_month                               0   \n",
       "seller_id                                0   \n",
       "rating                                   0   \n",
       "product_category_upper                   0   \n",
       "seller_state                             0   \n",
       "seles_by_OrderNumber                     6   \n",
       "sales                                    6   \n",
       "order_nb                                 6   \n",
       "delivery_delay_origin                    106 \n",
       "delivery_periods_origin                  106 \n",
       "delivery_preparation_origin              6   \n",
       "error_rate_based_on_CI                   6   \n",
       "error_rate_based_on_estimated            6   \n",
       "rate_canceled                            0   \n",
       "canceled_rate_rolling                    3747\n",
       "error_rate_based_on_CI_rolling           3748\n",
       "error_rate_based_on_estimated_rolling    3748\n",
       "dtype: int64"
      ]
     },
     "execution_count": 13,
     "metadata": {},
     "output_type": "execute_result"
    }
   ],
   "source": [
    "data.isnull().sum()"
   ]
  },
  {
   "cell_type": "code",
   "execution_count": 14,
   "metadata": {},
   "outputs": [
    {
     "data": {
      "image/png": "[encoded data removed]",
      "text/plain": [
       "<Figure size 1080x1080 with 2 Axes>"
      ]
     },
     "metadata": {
      "needs_background": "light"
     },
     "output_type": "display_data"
    }
   ],
   "source": [
    "plt.figure(figsize = (15,15))\n",
    "plt.yticks(rotation = 0)\n",
    "g = sns.heatmap(data.corr(), annot = True)"
   ]
  },
  {
   "cell_type": "markdown",
   "metadata": {},
   "source": [
    "# ★1차★\n",
    "- review_score 평균 예측하는 모델 구축하기"
   ]
  },
  {
   "cell_type": "code",
   "execution_count": 15,
   "metadata": {},
   "outputs": [],
   "source": [
    "# seller_id 라벨인코딩\n",
    "from sklearn.preprocessing import LabelEncoder\n",
    "le = LabelEncoder()\n",
    "data['seller_id'] = le.fit_transform(data['seller_id'])"
   ]
  },
  {
   "cell_type": "code",
   "execution_count": 16,
   "metadata": {},
   "outputs": [
    {
     "data": {
      "text/html": [
       "<div>\n",
       "<style scoped>\n",
       "    .dataframe tbody tr th:only-of-type {\n",
       "        vertical-align: middle;\n",
       "    }\n",
       "\n",
       "    .dataframe tbody tr th {\n",
       "        vertical-align: top;\n",
       "    }\n",
       "\n",
       "    .dataframe thead th {\n",
       "        text-align: right;\n",
       "    }\n",
       "</style>\n",
       "<table border=\"1\" class=\"dataframe\">\n",
       "  <thead>\n",
       "    <tr style=\"text-align: right;\">\n",
       "      <th></th>\n",
       "      <th>low_review_score_rate</th>\n",
       "      <th>seller_id</th>\n",
       "      <th>rating</th>\n",
       "      <th>product_category_upper</th>\n",
       "      <th>seller_state</th>\n",
       "      <th>seles_by_OrderNumber</th>\n",
       "      <th>sales</th>\n",
       "      <th>order_nb</th>\n",
       "      <th>delivery_delay_origin</th>\n",
       "      <th>delivery_periods_origin</th>\n",
       "      <th>delivery_preparation_origin</th>\n",
       "      <th>error_rate_based_on_estimated</th>\n",
       "      <th>rate_canceled</th>\n",
       "    </tr>\n",
       "  </thead>\n",
       "  <tbody>\n",
       "    <tr>\n",
       "      <th>0</th>\n",
       "      <td>20.0</td>\n",
       "      <td>3</td>\n",
       "      <td>0</td>\n",
       "      <td>home_living</td>\n",
       "      <td>SP</td>\n",
       "      <td>140.574000</td>\n",
       "      <td>702.87</td>\n",
       "      <td>5.0</td>\n",
       "      <td>-19.000000</td>\n",
       "      <td>16.4</td>\n",
       "      <td>0.400000</td>\n",
       "      <td>20.0</td>\n",
       "      <td>0.0</td>\n",
       "    </tr>\n",
       "    <tr>\n",
       "      <th>1</th>\n",
       "      <td>0.0</td>\n",
       "      <td>13</td>\n",
       "      <td>0</td>\n",
       "      <td>home_living</td>\n",
       "      <td>MG</td>\n",
       "      <td>128.200000</td>\n",
       "      <td>128.20</td>\n",
       "      <td>1.0</td>\n",
       "      <td>-64.000000</td>\n",
       "      <td>11.0</td>\n",
       "      <td>1.000000</td>\n",
       "      <td>0.0</td>\n",
       "      <td>0.0</td>\n",
       "    </tr>\n",
       "    <tr>\n",
       "      <th>2</th>\n",
       "      <td>0.0</td>\n",
       "      <td>18</td>\n",
       "      <td>0</td>\n",
       "      <td>home_appliances</td>\n",
       "      <td>PR</td>\n",
       "      <td>227.425000</td>\n",
       "      <td>909.70</td>\n",
       "      <td>4.0</td>\n",
       "      <td>-35.666667</td>\n",
       "      <td>13.0</td>\n",
       "      <td>2.000000</td>\n",
       "      <td>25.0</td>\n",
       "      <td>0.0</td>\n",
       "    </tr>\n",
       "    <tr>\n",
       "      <th>3</th>\n",
       "      <td>50.0</td>\n",
       "      <td>18</td>\n",
       "      <td>0</td>\n",
       "      <td>stationery</td>\n",
       "      <td>PR</td>\n",
       "      <td>91.840000</td>\n",
       "      <td>183.68</td>\n",
       "      <td>2.0</td>\n",
       "      <td>-19.500000</td>\n",
       "      <td>6.5</td>\n",
       "      <td>1.000000</td>\n",
       "      <td>0.0</td>\n",
       "      <td>0.0</td>\n",
       "    </tr>\n",
       "    <tr>\n",
       "      <th>4</th>\n",
       "      <td>0.0</td>\n",
       "      <td>53</td>\n",
       "      <td>0</td>\n",
       "      <td>home_appliances</td>\n",
       "      <td>SP</td>\n",
       "      <td>449.546667</td>\n",
       "      <td>1348.64</td>\n",
       "      <td>3.0</td>\n",
       "      <td>-27.666667</td>\n",
       "      <td>14.0</td>\n",
       "      <td>5.333333</td>\n",
       "      <td>0.0</td>\n",
       "      <td>0.0</td>\n",
       "    </tr>\n",
       "    <tr>\n",
       "      <th>...</th>\n",
       "      <td>...</td>\n",
       "      <td>...</td>\n",
       "      <td>...</td>\n",
       "      <td>...</td>\n",
       "      <td>...</td>\n",
       "      <td>...</td>\n",
       "      <td>...</td>\n",
       "      <td>...</td>\n",
       "      <td>...</td>\n",
       "      <td>...</td>\n",
       "      <td>...</td>\n",
       "      <td>...</td>\n",
       "      <td>...</td>\n",
       "    </tr>\n",
       "    <tr>\n",
       "      <th>21608</th>\n",
       "      <td>100.0</td>\n",
       "      <td>896</td>\n",
       "      <td>0</td>\n",
       "      <td>food_drink</td>\n",
       "      <td>SP</td>\n",
       "      <td>NaN</td>\n",
       "      <td>NaN</td>\n",
       "      <td>NaN</td>\n",
       "      <td>NaN</td>\n",
       "      <td>NaN</td>\n",
       "      <td>NaN</td>\n",
       "      <td>NaN</td>\n",
       "      <td>100.0</td>\n",
       "    </tr>\n",
       "    <tr>\n",
       "      <th>21609</th>\n",
       "      <td>100.0</td>\n",
       "      <td>1041</td>\n",
       "      <td>4</td>\n",
       "      <td>stationery</td>\n",
       "      <td>SC</td>\n",
       "      <td>NaN</td>\n",
       "      <td>NaN</td>\n",
       "      <td>NaN</td>\n",
       "      <td>NaN</td>\n",
       "      <td>NaN</td>\n",
       "      <td>NaN</td>\n",
       "      <td>NaN</td>\n",
       "      <td>100.0</td>\n",
       "    </tr>\n",
       "    <tr>\n",
       "      <th>21610</th>\n",
       "      <td>100.0</td>\n",
       "      <td>2170</td>\n",
       "      <td>2</td>\n",
       "      <td>electronics</td>\n",
       "      <td>SC</td>\n",
       "      <td>NaN</td>\n",
       "      <td>NaN</td>\n",
       "      <td>NaN</td>\n",
       "      <td>NaN</td>\n",
       "      <td>NaN</td>\n",
       "      <td>NaN</td>\n",
       "      <td>NaN</td>\n",
       "      <td>100.0</td>\n",
       "    </tr>\n",
       "    <tr>\n",
       "      <th>21611</th>\n",
       "      <td>100.0</td>\n",
       "      <td>2304</td>\n",
       "      <td>8</td>\n",
       "      <td>home_appliances</td>\n",
       "      <td>SP</td>\n",
       "      <td>NaN</td>\n",
       "      <td>NaN</td>\n",
       "      <td>NaN</td>\n",
       "      <td>NaN</td>\n",
       "      <td>NaN</td>\n",
       "      <td>NaN</td>\n",
       "      <td>NaN</td>\n",
       "      <td>100.0</td>\n",
       "    </tr>\n",
       "    <tr>\n",
       "      <th>21612</th>\n",
       "      <td>0.0</td>\n",
       "      <td>1253</td>\n",
       "      <td>6</td>\n",
       "      <td>telephone</td>\n",
       "      <td>SP</td>\n",
       "      <td>NaN</td>\n",
       "      <td>NaN</td>\n",
       "      <td>NaN</td>\n",
       "      <td>NaN</td>\n",
       "      <td>NaN</td>\n",
       "      <td>NaN</td>\n",
       "      <td>NaN</td>\n",
       "      <td>100.0</td>\n",
       "    </tr>\n",
       "  </tbody>\n",
       "</table>\n",
       "<p>21613 rows × 13 columns</p>\n",
       "</div>"
      ],
      "text/plain": [
       "       low_review_score_rate  seller_id  rating product_category_upper  \\\n",
       "0      20.0                   3          0       home_living             \n",
       "1      0.0                    13         0       home_living             \n",
       "2      0.0                    18         0       home_appliances         \n",
       "3      50.0                   18         0       stationery              \n",
       "4      0.0                    53         0       home_appliances         \n",
       "...    ...                    ..        ..                   ...         \n",
       "21608  100.0                  896        0       food_drink              \n",
       "21609  100.0                  1041       4       stationery              \n",
       "21610  100.0                  2170       2       electronics             \n",
       "21611  100.0                  2304       8       home_appliances         \n",
       "21612  0.0                    1253       6       telephone               \n",
       "\n",
       "      seller_state  seles_by_OrderNumber    sales  order_nb  \\\n",
       "0      SP           140.574000            702.87   5.0        \n",
       "1      MG           128.200000            128.20   1.0        \n",
       "2      PR           227.425000            909.70   4.0        \n",
       "3      PR           91.840000             183.68   2.0        \n",
       "4      SP           449.546667            1348.64  3.0        \n",
       "...    ..                  ...                ...  ...        \n",
       "21608  SP          NaN                   NaN      NaN         \n",
       "21609  SC          NaN                   NaN      NaN         \n",
       "21610  SC          NaN                   NaN      NaN         \n",
       "21611  SP          NaN                   NaN      NaN         \n",
       "21612  SP          NaN                   NaN      NaN         \n",
       "\n",
       "       delivery_delay_origin  delivery_periods_origin  \\\n",
       "0     -19.000000              16.4                      \n",
       "1     -64.000000              11.0                      \n",
       "2     -35.666667              13.0                      \n",
       "3     -19.500000              6.5                       \n",
       "4     -27.666667              14.0                      \n",
       "...          ...               ...                      \n",
       "21608 NaN                    NaN                        \n",
       "21609 NaN                    NaN                        \n",
       "21610 NaN                    NaN                        \n",
       "21611 NaN                    NaN                        \n",
       "21612 NaN                    NaN                        \n",
       "\n",
       "       delivery_preparation_origin  error_rate_based_on_estimated  \\\n",
       "0      0.400000                     20.0                            \n",
       "1      1.000000                     0.0                             \n",
       "2      2.000000                     25.0                            \n",
       "3      1.000000                     0.0                             \n",
       "4      5.333333                     0.0                             \n",
       "...         ...                     ...                             \n",
       "21608 NaN                          NaN                              \n",
       "21609 NaN                          NaN                              \n",
       "21610 NaN                          NaN                              \n",
       "21611 NaN                          NaN                              \n",
       "21612 NaN                          NaN                              \n",
       "\n",
       "       rate_canceled  \n",
       "0      0.0            \n",
       "1      0.0            \n",
       "2      0.0            \n",
       "3      0.0            \n",
       "4      0.0            \n",
       "...    ...            \n",
       "21608  100.0          \n",
       "21609  100.0          \n",
       "21610  100.0          \n",
       "21611  100.0          \n",
       "21612  100.0          \n",
       "\n",
       "[21613 rows x 13 columns]"
      ]
     },
     "execution_count": 16,
     "metadata": {},
     "output_type": "execute_result"
    }
   ],
   "source": [
    "# 미사용 컬럼 제거\n",
    "data = data.drop(['review_score', 'year_month', 'error_rate_based_on_CI', 'canceled_rate_rolling', 'error_rate_based_on_CI_rolling',\n",
    "                'error_rate_based_on_estimated_rolling'], axis = 1)\n",
    "data"
   ]
  },
  {
   "cell_type": "code",
   "execution_count": 17,
   "metadata": {},
   "outputs": [],
   "source": [
    "# 목표변수 분리\n",
    "label = data['low_review_score_rate']\n",
    "data = data.drop('low_review_score_rate', axis = 1)"
   ]
  },
  {
   "cell_type": "code",
   "execution_count": 18,
   "metadata": {},
   "outputs": [],
   "source": [
    "# 라벨인코딩\n",
    "from sklearn.preprocessing import LabelEncoder\n",
    "le = LabelEncoder()\n",
    "data['seller_id'] = le.fit_transform(data['seller_id'])"
   ]
  },
  {
   "cell_type": "code",
   "execution_count": 19,
   "metadata": {},
   "outputs": [
    {
     "name": "stdout",
     "output_type": "stream",
     "text": [
      "Categorical Columns:\n",
      "['product_category_upper', 'seller_state']\n",
      "\n",
      " Numeric Columns:\n",
      "['seller_id', 'rating', 'seles_by_OrderNumber', 'sales', 'order_nb', 'delivery_delay_origin', 'delivery_periods_origin', 'delivery_preparation_origin', 'error_rate_based_on_estimated', 'rate_canceled']\n",
      "\n"
     ]
    }
   ],
   "source": [
    "# 범주형, 연속형 변수 분리\n",
    "cat_columns = [c for c, t in zip(data.dtypes.index, data.dtypes) if t == 'O']\n",
    "num_columns = [c for c in data.columns if c not in cat_columns]\n",
    "print('Categorical Columns:\\n{}\\n\\n Numeric Columns:\\n{}\\n'.format(cat_columns, num_columns))"
   ]
  },
  {
   "cell_type": "code",
   "execution_count": 20,
   "metadata": {},
   "outputs": [
    {
     "data": {
      "text/plain": [
       "((15129, 12), (6484, 12))"
      ]
     },
     "execution_count": 20,
     "metadata": {},
     "output_type": "execute_result"
    }
   ],
   "source": [
    "# train_test_split\n",
    "from sklearn.model_selection import train_test_split\n",
    "x_train, x_test, y_train, y_test = train_test_split(data, label, test_size=0.3,\n",
    "                                                       random_state=2021,\n",
    "                                                       shuffle=True)\n",
    "\n",
    "x_train.shape, x_test.shape"
   ]
  },
  {
   "cell_type": "code",
   "execution_count": 21,
   "metadata": {},
   "outputs": [],
   "source": [
    "# 전처리함수\n",
    "from sklearn.preprocessing import StandardScaler\n",
    "from sklearn.preprocessing import OneHotEncoder\n",
    "\n",
    "def preprocess(x_train, x_test):\n",
    "    tmp_x_train = x_train.copy()\n",
    "    tmp_x_test  = x_test.copy()\n",
    "    \n",
    "    # reset index\n",
    "    tmp_x_train = tmp_x_train.reset_index(drop=True)\n",
    "    tmp_x_test  = tmp_x_test.reset_index(drop=True)\n",
    "    \n",
    "    # cat_columns 원핫인코딩\n",
    "    ohe = OneHotEncoder(sparse=False)\n",
    "    x_all = pd.concat([tmp_x_train[cat_columns], \n",
    "                       tmp_x_test[cat_columns]], axis=0)\n",
    "\n",
    "    new_x_all = ohe.fit_transform(x_all)\n",
    "    \n",
    "    ohe_columns = []\n",
    "    for cat in ohe.categories_:\n",
    "        ohe_columns += cat.tolist()\n",
    "    \n",
    "    new_x_all = pd.DataFrame(new_x_all, columns=ohe_columns)\n",
    "\n",
    "    new_x_train_cat = new_x_all.iloc[:tmp_x_train.shape[0], :]\n",
    "    new_x_test_cat =  new_x_all.iloc[tmp_x_train.shape[0]:, :]\n",
    "\n",
    "    new_x_train_cat = new_x_train_cat.reset_index(drop=True)\n",
    "    new_x_test_cat  = new_x_test_cat.reset_index(drop=True)\n",
    "\n",
    "    tmp_x_train = tmp_x_train.drop(columns=cat_columns)\n",
    "    tmp_x_test  = tmp_x_test.drop(columns=cat_columns)\n",
    "\n",
    "    tmp_x_train = pd.concat([tmp_x_train, new_x_train_cat], axis=1)\n",
    "    tmp_x_test = pd.concat([tmp_x_test, new_x_test_cat], axis=1)\n",
    "    \n",
    "    return tmp_x_train, tmp_x_test"
   ]
  },
  {
   "cell_type": "code",
   "execution_count": 22,
   "metadata": {},
   "outputs": [
    {
     "data": {
      "text/plain": [
       "((15129, 52), (6484, 52))"
      ]
     },
     "execution_count": 22,
     "metadata": {},
     "output_type": "execute_result"
    }
   ],
   "source": [
    "# 전처리함수 적용\n",
    "x_train, x_test = preprocess(x_train, x_test)\n",
    "x_train.shape, x_test.shape"
   ]
  },
  {
   "cell_type": "markdown",
   "metadata": {},
   "source": [
    "## 모델 결과"
   ]
  },
  {
   "cell_type": "code",
   "execution_count": 23,
   "metadata": {},
   "outputs": [
    {
     "name": "stdout",
     "output_type": "stream",
     "text": [
      "XGBoost Model MAE : 21.3206095704839\n",
      "XGBoost Model RMSE: 29.974627399262516\n",
      "LightGBM Model MAE : 21.06631871078244\n",
      "LightGBM Model RMSE: 28.988285112073143\n",
      "Best Model: LightGBM, RMSE: 28.988285112073143\n"
     ]
    }
   ],
   "source": [
    "from xgboost import XGBRegressor\n",
    "from lightgbm import LGBMRegressor\n",
    "from sklearn.metrics import mean_absolute_error, mean_squared_error\n",
    "\n",
    "\n",
    "models = [['XGBoost', XGBRegressor(random_state=2021,\n",
    "                                    n_jobs=-1)], \n",
    "          ['LightGBM', LGBMRegressor(random_state=2021,\n",
    "                                      n_jobs=-1)]]\n",
    "\n",
    "best_loss = np.inf\n",
    "\n",
    "for i, (name, model) in enumerate(models):\n",
    "    model.fit(x_train, y_train)\n",
    "    y_pred = model.predict(x_test)\n",
    "    current_loss_mae = mean_absolute_error(y_test, y_pred)\n",
    "    current_loss_rmse = np.sqrt(mean_squared_error(y_test, y_pred))\n",
    "            \n",
    "    if current_loss_rmse < best_loss:\n",
    "        best_loss  = current_loss_rmse\n",
    "        best_model = [i, name]\n",
    "    \n",
    "    print(f'{name} Model MAE : {current_loss_mae}')\n",
    "    print(f'{name} Model RMSE: {current_loss_rmse}')\n",
    "\n",
    "print(f'Best Model: {best_model[-1]}, RMSE: {best_loss}')"
   ]
  },
  {
   "cell_type": "markdown",
   "metadata": {},
   "source": [
    "## 변수 중요도"
   ]
  },
  {
   "cell_type": "markdown",
   "metadata": {},
   "source": [
    "### feature importance"
   ]
  },
  {
   "cell_type": "code",
   "execution_count": 24,
   "metadata": {},
   "outputs": [
    {
     "data": {
      "text/plain": [
       "LGBMRegressor(random_state=2021)"
      ]
     },
     "execution_count": 24,
     "metadata": {},
     "output_type": "execute_result"
    }
   ],
   "source": [
    "best_model = models[1][1]\n",
    "best_model"
   ]
  },
  {
   "cell_type": "code",
   "execution_count": 25,
   "metadata": {},
   "outputs": [
    {
     "data": {
      "text/plain": [
       "array([450, 131, 405, 410,  61, 458, 350, 275,  84,  10,  10,  12,   6,\n",
       "        29,  28,   7,   7,  13,  11,   7,  15,   9,   7,   3,  18,  10,\n",
       "         7,   5,  16,  20,   8,   0,   7,   0,   8,   1,   4,   0,  17,\n",
       "         0,   0,   0,   2,   0,  10,  12,   0,   0,   7,  12,   0,  38])"
      ]
     },
     "execution_count": 25,
     "metadata": {},
     "output_type": "execute_result"
    }
   ],
   "source": [
    "best_model.feature_importances_"
   ]
  },
  {
   "cell_type": "code",
   "execution_count": 26,
   "metadata": {},
   "outputs": [
    {
     "data": {
      "text/html": [
       "<div>\n",
       "<style scoped>\n",
       "    .dataframe tbody tr th:only-of-type {\n",
       "        vertical-align: middle;\n",
       "    }\n",
       "\n",
       "    .dataframe tbody tr th {\n",
       "        vertical-align: top;\n",
       "    }\n",
       "\n",
       "    .dataframe thead th {\n",
       "        text-align: right;\n",
       "    }\n",
       "</style>\n",
       "<table border=\"1\" class=\"dataframe\">\n",
       "  <thead>\n",
       "    <tr style=\"text-align: right;\">\n",
       "      <th></th>\n",
       "      <th>Value</th>\n",
       "      <th>Feature</th>\n",
       "    </tr>\n",
       "  </thead>\n",
       "  <tbody>\n",
       "    <tr>\n",
       "      <th>0</th>\n",
       "      <td>458</td>\n",
       "      <td>delivery_delay_origin</td>\n",
       "    </tr>\n",
       "    <tr>\n",
       "      <th>1</th>\n",
       "      <td>450</td>\n",
       "      <td>seller_id</td>\n",
       "    </tr>\n",
       "    <tr>\n",
       "      <th>2</th>\n",
       "      <td>410</td>\n",
       "      <td>sales</td>\n",
       "    </tr>\n",
       "    <tr>\n",
       "      <th>3</th>\n",
       "      <td>405</td>\n",
       "      <td>seles_by_OrderNumber</td>\n",
       "    </tr>\n",
       "    <tr>\n",
       "      <th>4</th>\n",
       "      <td>350</td>\n",
       "      <td>delivery_periods_origin</td>\n",
       "    </tr>\n",
       "    <tr>\n",
       "      <th>5</th>\n",
       "      <td>275</td>\n",
       "      <td>delivery_preparation_origin</td>\n",
       "    </tr>\n",
       "    <tr>\n",
       "      <th>6</th>\n",
       "      <td>131</td>\n",
       "      <td>rating</td>\n",
       "    </tr>\n",
       "    <tr>\n",
       "      <th>7</th>\n",
       "      <td>84</td>\n",
       "      <td>error_rate_based_on_estimated</td>\n",
       "    </tr>\n",
       "    <tr>\n",
       "      <th>8</th>\n",
       "      <td>61</td>\n",
       "      <td>order_nb</td>\n",
       "    </tr>\n",
       "    <tr>\n",
       "      <th>9</th>\n",
       "      <td>38</td>\n",
       "      <td>SP</td>\n",
       "    </tr>\n",
       "    <tr>\n",
       "      <th>10</th>\n",
       "      <td>29</td>\n",
       "      <td>beauty</td>\n",
       "    </tr>\n",
       "    <tr>\n",
       "      <th>11</th>\n",
       "      <td>28</td>\n",
       "      <td>book</td>\n",
       "    </tr>\n",
       "    <tr>\n",
       "      <th>12</th>\n",
       "      <td>20</td>\n",
       "      <td>stationery</td>\n",
       "    </tr>\n",
       "    <tr>\n",
       "      <th>13</th>\n",
       "      <td>18</td>\n",
       "      <td>home_living</td>\n",
       "    </tr>\n",
       "    <tr>\n",
       "      <th>14</th>\n",
       "      <td>17</td>\n",
       "      <td>MG</td>\n",
       "    </tr>\n",
       "    <tr>\n",
       "      <th>15</th>\n",
       "      <td>16</td>\n",
       "      <td>sports</td>\n",
       "    </tr>\n",
       "    <tr>\n",
       "      <th>16</th>\n",
       "      <td>15</td>\n",
       "      <td>furniture</td>\n",
       "    </tr>\n",
       "    <tr>\n",
       "      <th>17</th>\n",
       "      <td>13</td>\n",
       "      <td>electronics</td>\n",
       "    </tr>\n",
       "    <tr>\n",
       "      <th>18</th>\n",
       "      <td>12</td>\n",
       "      <td>auto</td>\n",
       "    </tr>\n",
       "    <tr>\n",
       "      <th>19</th>\n",
       "      <td>12</td>\n",
       "      <td>SC</td>\n",
       "    </tr>\n",
       "    <tr>\n",
       "      <th>20</th>\n",
       "      <td>12</td>\n",
       "      <td>RJ</td>\n",
       "    </tr>\n",
       "    <tr>\n",
       "      <th>21</th>\n",
       "      <td>11</td>\n",
       "      <td>fashion</td>\n",
       "    </tr>\n",
       "    <tr>\n",
       "      <th>22</th>\n",
       "      <td>10</td>\n",
       "      <td>rate_canceled</td>\n",
       "    </tr>\n",
       "    <tr>\n",
       "      <th>23</th>\n",
       "      <td>10</td>\n",
       "      <td>others</td>\n",
       "    </tr>\n",
       "    <tr>\n",
       "      <th>24</th>\n",
       "      <td>10</td>\n",
       "      <td>agro</td>\n",
       "    </tr>\n",
       "    <tr>\n",
       "      <th>25</th>\n",
       "      <td>10</td>\n",
       "      <td>PR</td>\n",
       "    </tr>\n",
       "    <tr>\n",
       "      <th>26</th>\n",
       "      <td>9</td>\n",
       "      <td>games</td>\n",
       "    </tr>\n",
       "    <tr>\n",
       "      <th>27</th>\n",
       "      <td>8</td>\n",
       "      <td>telephone</td>\n",
       "    </tr>\n",
       "    <tr>\n",
       "      <th>28</th>\n",
       "      <td>8</td>\n",
       "      <td>DF</td>\n",
       "    </tr>\n",
       "    <tr>\n",
       "      <th>29</th>\n",
       "      <td>7</td>\n",
       "      <td>pet</td>\n",
       "    </tr>\n",
       "    <tr>\n",
       "      <th>30</th>\n",
       "      <td>7</td>\n",
       "      <td>garden_tools</td>\n",
       "    </tr>\n",
       "    <tr>\n",
       "      <th>31</th>\n",
       "      <td>7</td>\n",
       "      <td>food_drink</td>\n",
       "    </tr>\n",
       "    <tr>\n",
       "      <th>32</th>\n",
       "      <td>7</td>\n",
       "      <td>culture</td>\n",
       "    </tr>\n",
       "    <tr>\n",
       "      <th>33</th>\n",
       "      <td>7</td>\n",
       "      <td>construction</td>\n",
       "    </tr>\n",
       "    <tr>\n",
       "      <th>34</th>\n",
       "      <td>7</td>\n",
       "      <td>RS</td>\n",
       "    </tr>\n",
       "    <tr>\n",
       "      <th>35</th>\n",
       "      <td>7</td>\n",
       "      <td>BA</td>\n",
       "    </tr>\n",
       "    <tr>\n",
       "      <th>36</th>\n",
       "      <td>6</td>\n",
       "      <td>baby</td>\n",
       "    </tr>\n",
       "    <tr>\n",
       "      <th>37</th>\n",
       "      <td>5</td>\n",
       "      <td>security</td>\n",
       "    </tr>\n",
       "    <tr>\n",
       "      <th>38</th>\n",
       "      <td>4</td>\n",
       "      <td>GO</td>\n",
       "    </tr>\n",
       "    <tr>\n",
       "      <th>39</th>\n",
       "      <td>3</td>\n",
       "      <td>home_appliances</td>\n",
       "    </tr>\n",
       "    <tr>\n",
       "      <th>40</th>\n",
       "      <td>2</td>\n",
       "      <td>PE</td>\n",
       "    </tr>\n",
       "    <tr>\n",
       "      <th>41</th>\n",
       "      <td>1</td>\n",
       "      <td>ES</td>\n",
       "    </tr>\n",
       "    <tr>\n",
       "      <th>42</th>\n",
       "      <td>0</td>\n",
       "      <td>SE</td>\n",
       "    </tr>\n",
       "    <tr>\n",
       "      <th>43</th>\n",
       "      <td>0</td>\n",
       "      <td>RO</td>\n",
       "    </tr>\n",
       "    <tr>\n",
       "      <th>44</th>\n",
       "      <td>0</td>\n",
       "      <td>RN</td>\n",
       "    </tr>\n",
       "    <tr>\n",
       "      <th>45</th>\n",
       "      <td>0</td>\n",
       "      <td>PI</td>\n",
       "    </tr>\n",
       "    <tr>\n",
       "      <th>46</th>\n",
       "      <td>0</td>\n",
       "      <td>PB</td>\n",
       "    </tr>\n",
       "    <tr>\n",
       "      <th>47</th>\n",
       "      <td>0</td>\n",
       "      <td>MT</td>\n",
       "    </tr>\n",
       "    <tr>\n",
       "      <th>48</th>\n",
       "      <td>0</td>\n",
       "      <td>MS</td>\n",
       "    </tr>\n",
       "    <tr>\n",
       "      <th>49</th>\n",
       "      <td>0</td>\n",
       "      <td>MA</td>\n",
       "    </tr>\n",
       "    <tr>\n",
       "      <th>50</th>\n",
       "      <td>0</td>\n",
       "      <td>CE</td>\n",
       "    </tr>\n",
       "    <tr>\n",
       "      <th>51</th>\n",
       "      <td>0</td>\n",
       "      <td>AM</td>\n",
       "    </tr>\n",
       "  </tbody>\n",
       "</table>\n",
       "</div>"
      ],
      "text/plain": [
       "    Value                        Feature\n",
       "0   458    delivery_delay_origin        \n",
       "1   450    seller_id                    \n",
       "2   410    sales                        \n",
       "3   405    seles_by_OrderNumber         \n",
       "4   350    delivery_periods_origin      \n",
       "5   275    delivery_preparation_origin  \n",
       "6   131    rating                       \n",
       "7   84     error_rate_based_on_estimated\n",
       "8   61     order_nb                     \n",
       "9   38     SP                           \n",
       "10  29     beauty                       \n",
       "11  28     book                         \n",
       "12  20     stationery                   \n",
       "13  18     home_living                  \n",
       "14  17     MG                           \n",
       "15  16     sports                       \n",
       "16  15     furniture                    \n",
       "17  13     electronics                  \n",
       "18  12     auto                         \n",
       "19  12     SC                           \n",
       "20  12     RJ                           \n",
       "21  11     fashion                      \n",
       "22  10     rate_canceled                \n",
       "23  10     others                       \n",
       "24  10     agro                         \n",
       "25  10     PR                           \n",
       "26  9      games                        \n",
       "27  8      telephone                    \n",
       "28  8      DF                           \n",
       "29  7      pet                          \n",
       "30  7      garden_tools                 \n",
       "31  7      food_drink                   \n",
       "32  7      culture                      \n",
       "33  7      construction                 \n",
       "34  7      RS                           \n",
       "35  7      BA                           \n",
       "36  6      baby                         \n",
       "37  5      security                     \n",
       "38  4      GO                           \n",
       "39  3      home_appliances              \n",
       "40  2      PE                           \n",
       "41  1      ES                           \n",
       "42  0      SE                           \n",
       "43  0      RO                           \n",
       "44  0      RN                           \n",
       "45  0      PI                           \n",
       "46  0      PB                           \n",
       "47  0      MT                           \n",
       "48  0      MS                           \n",
       "49  0      MA                           \n",
       "50  0      CE                           \n",
       "51  0      AM                           "
      ]
     },
     "execution_count": 26,
     "metadata": {},
     "output_type": "execute_result"
    }
   ],
   "source": [
    "pd.DataFrame(sorted(zip(best_model.feature_importances_, x_train.columns), reverse=True), columns=['Value','Feature'])"
   ]
  },
  {
   "cell_type": "code",
   "execution_count": 27,
   "metadata": {
    "scrolled": false
   },
   "outputs": [
    {
     "data": {
      "image/png": "[encoded data removed]",
      "text/plain": [
       "<Figure size 1440x720 with 1 Axes>"
      ]
     },
     "metadata": {
      "needs_background": "light"
     },
     "output_type": "display_data"
    }
   ],
   "source": [
    "# Feature importance\n",
    "# sorted(zip(clf.feature_importances_, X.columns), reverse=True)\n",
    "feature_imp = pd.DataFrame(sorted(zip(best_model.feature_importances_,x_train.columns)), columns=['Value','Feature'])\n",
    "\n",
    "plt.figure(figsize=(20, 10))\n",
    "sns.barplot(x=\"Value\", y=\"Feature\", data=feature_imp.sort_values(by=\"Value\", ascending=False).head(20))\n",
    "plt.title('LightGBM Features')\n",
    "plt.tight_layout()\n",
    "plt.show()"
   ]
  },
  {
   "cell_type": "markdown",
   "metadata": {},
   "source": [
    "### permutation importance"
   ]
  },
  {
   "cell_type": "code",
   "execution_count": 28,
   "metadata": {},
   "outputs": [],
   "source": [
    "from sklearn.inspection import permutation_importance"
   ]
  },
  {
   "cell_type": "code",
   "execution_count": 29,
   "metadata": {},
   "outputs": [
    {
     "data": {
      "image/png": "[encoded data removed]",
      "text/plain": [
       "<Figure size 864x864 with 1 Axes>"
      ]
     },
     "metadata": {
      "needs_background": "light"
     },
     "output_type": "display_data"
    }
   ],
   "source": [
    "result = permutation_importance(best_model, x_test, y_test, n_repeats=10,\n",
    "                                 n_jobs=-1)\n",
    "sorted_idx = result.importances_mean.argsort()\n",
    "\n",
    "fig, ax = plt.subplots(figsize = (12,12))\n",
    "ax.boxplot(result.importances[sorted_idx].T,\n",
    "           vert=False, labels=x_test.columns[sorted_idx])\n",
    "ax.set_title(\"Permutation Importances (test set)\")\n",
    "fig.tight_layout()\n",
    "plt.show()"
   ]
  },
  {
   "cell_type": "code",
   "execution_count": 30,
   "metadata": {},
   "outputs": [
    {
     "data": {
      "image/png": "[encoded data removed]",
      "text/plain": [
       "<Figure size 864x864 with 1 Axes>"
      ]
     },
     "metadata": {
      "needs_background": "light"
     },
     "output_type": "display_data"
    }
   ],
   "source": [
    "# 비교용\n",
    "result = permutation_importance(best_model, x_test, y_test, n_repeats=10,\n",
    "                                 n_jobs=-1)\n",
    "sorted_idx = result.importances_mean.argsort()\n",
    "\n",
    "fig, ax = plt.subplots(figsize = (12,12))\n",
    "ax.boxplot(result.importances[sorted_idx].T,\n",
    "           vert=False, labels=x_test.columns[sorted_idx])\n",
    "ax.set_title(\"Permutation Importances (test set)\")\n",
    "fig.tight_layout()\n",
    "plt.show()"
   ]
  },
  {
   "cell_type": "markdown",
   "metadata": {},
   "source": [
    "## Cross Validation\n",
    "- CV 전보다 RMSE가 높아짐"
   ]
  },
  {
   "cell_type": "code",
   "execution_count": 34,
   "metadata": {},
   "outputs": [
    {
     "name": "stdout",
     "output_type": "stream",
     "text": [
      "0 Fold, train rmse_score : 26.5379, validation rmse_score : 29.1246\n",
      "1 Fold, train rmse_score : 26.4577, validation rmse_score : 29.4561\n",
      "2 Fold, train rmse_score : 26.5759, validation rmse_score : 28.9192\n",
      "3 Fold, train rmse_score : 26.4951, validation rmse_score : 29.1994\n",
      "4 Fold, train rmse_score : 26.2093, validation rmse_score : 30.4955\n",
      "Cross Validation Score : 29.4389\n"
     ]
    }
   ],
   "source": [
    "from sklearn.model_selection import KFold\n",
    "from lightgbm import LGBMRegressor\n",
    "from sklearn.metrics import mean_absolute_error\n",
    "from sklearn.metrics import mean_squared_error\n",
    "\n",
    "val_scores = list()\n",
    "\n",
    "kf = KFold(n_splits=5, shuffle=True, random_state=2021)\n",
    "\n",
    "for i, (trn_idx, val_idx) in enumerate(kf.split(data, label)):\n",
    "    x_train, y_train = data.iloc[trn_idx], label[trn_idx]\n",
    "    x_test, y_test = data.iloc[val_idx], label[val_idx]\n",
    "    \n",
    "    # 전처리\n",
    "    x_train, x_test = preprocess(x_train, x_test)\n",
    "    \n",
    "    # 모델 정의\n",
    "    lgbm = LGBMRegressor(random_state=2021, n_jobs=-1)\n",
    "    \n",
    "    # 모델 학습\n",
    "    lgbm.fit(x_train, y_train)\n",
    "    y_pred = lgbm.predict(x_test)\n",
    "    \n",
    "    # 훈련, 검증 데이터 RMSE 확인\n",
    "    trn_rmse = np.sqrt(mean_squared_error(y_true = y_train, y_pred = lgbm.predict(x_train)))\n",
    "    val_rmse = np.sqrt(mean_squared_error(y_true = y_test, y_pred = y_pred))\n",
    "    print('{} Fold, train rmse_score : {:.4f}, validation rmse_score : {:.4f}'.format(i, trn_rmse, val_rmse))\n",
    "    \n",
    "    val_scores.append(val_rmse)\n",
    "\n",
    "# 교차 검증 rmse_score 평균 계산하기\n",
    "print('Cross Validation Score : {:.4f}'.format(np.mean(val_scores)))"
   ]
  },
  {
   "cell_type": "markdown",
   "metadata": {},
   "source": [
    "## Hyperparameter Tuning"
   ]
  },
  {
   "cell_type": "markdown",
   "metadata": {},
   "source": [
    "- cv만 했을때보다는 나아졌으나 base 모델보다는 RMSE가 높아짐"
   ]
  },
  {
   "cell_type": "markdown",
   "metadata": {},
   "source": [
    "### GridSearch"
   ]
  },
  {
   "cell_type": "code",
   "execution_count": 46,
   "metadata": {},
   "outputs": [],
   "source": [
    "from sklearn.model_selection import GridSearchCV, RandomizedSearchCV\n",
    "params = {'n_estimators':[20, 40, 60],\n",
    "          'max_depth':[3, 4],\n",
    "         'learning_rate' : [0.01, 0.05, 0.1]}\n",
    "\n",
    "lgbm_tuning = GridSearchCV(LGBMRegressor(random_state=2021), \n",
    "                   params, n_jobs= 5, scoring='neg_root_mean_squared_error')"
   ]
  },
  {
   "cell_type": "code",
   "execution_count": 47,
   "metadata": {},
   "outputs": [
    {
     "data": {
      "text/plain": [
       "GridSearchCV(estimator=LGBMRegressor(random_state=2021), n_jobs=5,\n",
       "             param_grid={'learning_rate': [0.01, 0.05, 0.1],\n",
       "                         'max_depth': [3, 4], 'n_estimators': [20, 40, 60]},\n",
       "             scoring='neg_root_mean_squared_error')"
      ]
     },
     "execution_count": 47,
     "metadata": {},
     "output_type": "execute_result"
    }
   ],
   "source": [
    "lgbm_tuning.fit(x_train, y_train)"
   ]
  },
  {
   "cell_type": "code",
   "execution_count": 42,
   "metadata": {},
   "outputs": [
    {
     "name": "stdout",
     "output_type": "stream",
     "text": [
      "GridSearchCV best rmse score : 29.0307, best_params : {'learning_rate': 0.1, 'max_depth': 3, 'n_estimators': 50}\n"
     ]
    }
   ],
   "source": [
    "# 1차\n",
    "# params = {'n_estimators':[50, 100, 200],\n",
    "#           'max_depth':[3, 4],\n",
    "#          'learning_rate' : [0.01, 0.05, 0.1]}\n",
    "\n",
    "# print('GridSearchCV best rmse score : {:.4f}, best_params : {}'.format(-lgbm_tuning.best_score_, lgbm_tuning.best_params_))"
   ]
  },
  {
   "cell_type": "code",
   "execution_count": 45,
   "metadata": {},
   "outputs": [
    {
     "name": "stdout",
     "output_type": "stream",
     "text": [
      "GridSearchCV best rmse score : 29.0289, best_params : {'learning_rate': 0.1, 'max_depth': 3, 'n_estimators': 40}\n"
     ]
    }
   ],
   "source": [
    "# 2차\n",
    "# params = {'n_estimators':[40, 50, 60],\n",
    "#           'max_depth':[3, 4],\n",
    "#          'learning_rate' : [0.01, 0.05, 0.1]}\n",
    "\n",
    "print('GridSearchCV best rmse score : {:.4f}, best_params : {}'.format(-lgbm_tuning.best_score_, lgbm_tuning.best_params_))"
   ]
  },
  {
   "cell_type": "code",
   "execution_count": 52,
   "metadata": {},
   "outputs": [
    {
     "name": "stdout",
     "output_type": "stream",
     "text": [
      "0 Fold, train rmse_score : 29.0438, validation rmse_score : 28.9079\n",
      "1 Fold, train rmse_score : 28.9523, validation rmse_score : 29.1574\n",
      "2 Fold, train rmse_score : 29.0770, validation rmse_score : 28.7441\n",
      "3 Fold, train rmse_score : 28.9970, validation rmse_score : 29.0618\n",
      "4 Fold, train rmse_score : 28.6946, validation rmse_score : 30.2101\n",
      "Cross Validation Score : 29.2163\n"
     ]
    }
   ],
   "source": [
    "from sklearn.model_selection import KFold\n",
    "from lightgbm import LGBMRegressor\n",
    "from sklearn.metrics import mean_absolute_error\n",
    "from sklearn.metrics import mean_squared_error\n",
    "\n",
    "val_scores = list()\n",
    "\n",
    "kf = KFold(n_splits=5, shuffle=True, random_state=2021)\n",
    "\n",
    "for i, (trn_idx, val_idx) in enumerate(kf.split(data, label)):\n",
    "    x_train, y_train = data.iloc[trn_idx], label[trn_idx]\n",
    "    x_test, y_test = data.iloc[val_idx], label[val_idx]\n",
    "    \n",
    "    # 전처리\n",
    "    x_train, x_test = preprocess(x_train, x_test)\n",
    "    \n",
    "    # 모델 정의\n",
    "    lgbm = LGBMRegressor(random_state=2021, n_jobs=-1,\n",
    "                        learning_rate = 0.1, max_depth = 3, n_estimators = 40)\n",
    "    \n",
    "    # 모델 학습\n",
    "    lgbm.fit(x_train, y_train)\n",
    "    y_pred = lgbm.predict(x_test)\n",
    "    \n",
    "    # 훈련, 검증 데이터 RMSE 확인\n",
    "    trn_rmse = np.sqrt(mean_squared_error(y_true = y_train, y_pred = lgbm.predict(x_train)))\n",
    "    val_rmse = np.sqrt(mean_squared_error(y_true = y_test, y_pred = y_pred))\n",
    "    print('{} Fold, train rmse_score : {:.4f}, validation rmse_score : {:.4f}'.format(i, trn_rmse, val_rmse))\n",
    "    \n",
    "    val_scores.append(val_rmse)\n",
    "\n",
    "# 교차 검증 rmse_score 평균 계산하기\n",
    "print('Cross Validation Score : {:.4f}'.format(np.mean(val_scores)))"
   ]
  },
  {
   "cell_type": "markdown",
   "metadata": {},
   "source": [
    "### RandomizedSearch"
   ]
  },
  {
   "cell_type": "code",
   "execution_count": 58,
   "metadata": {},
   "outputs": [],
   "source": [
    "params = {'n_estimators':(10, 10000),\n",
    "          'max_depth': (1, 10),\n",
    "          'learning_rate' : (0.05, 0.5),\n",
    "           'num_leaves': (10, 10000)\n",
    "}\n",
    "\n",
    "lgbm_tuning_rs = RandomizedSearchCV(estimator=LGBMRegressor(random_state = 2021), \n",
    "                                    n_jobs= -1, scoring='neg_root_mean_squared_error',\n",
    "                                    param_distributions = params, cv = 5, verbose = 1)"
   ]
  },
  {
   "cell_type": "code",
   "execution_count": 59,
   "metadata": {},
   "outputs": [
    {
     "name": "stdout",
     "output_type": "stream",
     "text": [
      "Fitting 5 folds for each of 10 candidates, totalling 50 fits\n"
     ]
    },
    {
     "name": "stderr",
     "output_type": "stream",
     "text": [
      "[Parallel(n_jobs=-1)]: Using backend LokyBackend with 8 concurrent workers.\n",
      "[Parallel(n_jobs=-1)]: Done  35 out of  50 | elapsed:  1.1min remaining:   29.1s\n",
      "[Parallel(n_jobs=-1)]: Done  50 out of  50 | elapsed:  2.5min finished\n"
     ]
    },
    {
     "data": {
      "text/plain": [
       "RandomizedSearchCV(cv=5, estimator=LGBMRegressor(random_state=2021), n_jobs=-1,\n",
       "                   param_distributions={'learning_rate': (0.05, 0.5),\n",
       "                                        'max_depth': (1, 10),\n",
       "                                        'n_estimators': (10, 10000),\n",
       "                                        'num_leaves': (10, 10000)},\n",
       "                   scoring='neg_root_mean_squared_error', verbose=1)"
      ]
     },
     "execution_count": 59,
     "metadata": {},
     "output_type": "execute_result"
    }
   ],
   "source": [
    "lgbm_tuning_rs.fit(x_train, y_train)"
   ]
  },
  {
   "cell_type": "code",
   "execution_count": 57,
   "metadata": {},
   "outputs": [
    {
     "name": "stdout",
     "output_type": "stream",
     "text": [
      "RanbdomSearchCV best rmse : 29.0462, best_params : {'num_leaves': 1000, 'n_estimators': 1000, 'max_depth': 1, 'learning_rate': 0.1}\n"
     ]
    }
   ],
   "source": [
    "# 1차\n",
    "# print('RanbdomSearchCV best rmse : {:.4f}, best_params : {}'.format(-lgbm_tuning_rs.best_score_, lgbm_tuning_rs.best_params_))"
   ]
  },
  {
   "cell_type": "code",
   "execution_count": 60,
   "metadata": {},
   "outputs": [
    {
     "name": "stdout",
     "output_type": "stream",
     "text": [
      "RanbdomSearchCV best rmse : 29.1395, best_params : {'num_leaves': 10, 'n_estimators': 10000, 'max_depth': 1, 'learning_rate': 0.05}\n"
     ]
    }
   ],
   "source": [
    "# 2차\n",
    "print('RanbdomSearchCV best rmse : {:.4f}, best_params : {}'.format(-lgbm_tuning_rs.best_score_, lgbm_tuning_rs.best_params_))"
   ]
  },
  {
   "cell_type": "markdown",
   "metadata": {},
   "source": [
    "# 결론"
   ]
  },
  {
   "cell_type": "markdown",
   "metadata": {},
   "source": [
    "- LightGBM Regressor 성능이 가장 높았으며 CV, hyperparameter tuning을 통해 기본모델 성능 개선 x\n",
    "- \n",
    "-"
   ]
  },
  {
   "cell_type": "markdown",
   "metadata": {},
   "source": [
    "**to-do**\n",
    "- RandomizedSearchCV 정확히 어떻게 쓰는건지\n",
    "- feature selection"
   ]
  }
 ],
 "metadata": {
  "kernelspec": {
   "display_name": "Python 3",
   "language": "python",
   "name": "python3"
  },
  "language_info": {
   "codemirror_mode": {
    "name": "ipython",
    "version": 3
   },
   "file_extension": ".py",
   "mimetype": "text/x-python",
   "name": "python",
   "nbconvert_exporter": "python",
   "pygments_lexer": "ipython3",
   "version": "3.8.5"
  },
  "toc": {
   "base_numbering": 1,
   "nav_menu": {},
   "number_sections": true,
   "sideBar": true,
   "skip_h1_title": false,
   "title_cell": "Table of Contents",
   "title_sidebar": "Contents",
   "toc_cell": false,
   "toc_position": {
    "height": "calc(100% - 180px)",
    "left": "10px",
    "top": "150px",
    "width": "332.181px"
   },
   "toc_section_display": true,
   "toc_window_display": true
  }
 },
 "nbformat": 4,
 "nbformat_minor": 4
}
